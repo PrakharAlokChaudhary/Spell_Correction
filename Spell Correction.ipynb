{
 "cells": [
  {
   "cell_type": "markdown",
   "metadata": {},
   "source": [
    "# Spell Correction"
   ]
  },
  {
   "cell_type": "code",
   "execution_count": 1,
   "metadata": {},
   "outputs": [
    {
     "name": "stdout",
     "output_type": "stream",
     "text": [
      "Requirement already up-to-date: symspellpy in c:\\users\\dell\\anaconda3\\lib\\site-packages (6.7.6)\n",
      "Requirement already satisfied, skipping upgrade: editdistpy>=0.1.3 in c:\\users\\dell\\anaconda3\\lib\\site-packages (from symspellpy) (0.1.3)\n",
      "Note: you may need to restart the kernel to use updated packages.\n"
     ]
    },
    {
     "name": "stderr",
     "output_type": "stream",
     "text": [
      "WARNING: You are using pip version 20.1.1; however, version 22.2.2 is available.\n",
      "You should consider upgrading via the 'C:\\Users\\DELL\\anaconda3\\python.exe -m pip install --upgrade pip' command.\n"
     ]
    }
   ],
   "source": [
    "pip install -U symspellpy"
   ]
  },
  {
   "cell_type": "code",
   "execution_count": 2,
   "metadata": {},
   "outputs": [],
   "source": [
    "import pkg_resources\n",
    "from symspellpy import SymSpell, Verbosity"
   ]
  },
  {
   "cell_type": "code",
   "execution_count": 3,
   "metadata": {},
   "outputs": [
    {
     "data": {
      "text/plain": [
       "True"
      ]
     },
     "execution_count": 3,
     "metadata": {},
     "output_type": "execute_result"
    }
   ],
   "source": [
    "sym_spell = SymSpell(max_dictionary_edit_distance=3)\n",
    "dictionary_path = pkg_resources.resource_filename(\n",
    "    \"symspellpy\", \"frequency_dictionary_en_82_765.txt\")\n",
    "sym_spell.load_dictionary(dictionary_path, term_index=0, count_index=1)"
   ]
  },
  {
   "cell_type": "code",
   "execution_count": 4,
   "metadata": {},
   "outputs": [
    {
     "name": "stdout",
     "output_type": "stream",
     "text": [
      "Total suggestions:17\n",
      "love, 1, 201063526\n",
      "low, 1, 184815478\n",
      "nov, 1, 126461152\n",
      "log, 1, 111170350\n",
      "lot, 1, 106405208\n",
      "los, 1, 65682137\n",
      "lou, 1, 5451701\n",
      "lon, 1, 3629057\n",
      "gov, 1, 3431706\n",
      "lob, 1, 2370806\n",
      "lev, 1, 1683199\n",
      "loo, 1, 838586\n",
      "lop, 1, 455673\n",
      "lav, 1, 297904\n",
      "lox, 1, 259880\n",
      "lvov, 1, 93170\n",
      "loq, 1, 38751\n"
     ]
    }
   ],
   "source": [
    "input_term = \"lov\"\n",
    "suggestions = sym_spell.lookup(input_term, Verbosity.CLOSEST)\n",
    "\n",
    "# display suggestion term, term frequency, and edit distance\n",
    "print(f\"Total suggestions:{len(suggestions)}\")\n",
    "for suggestion in suggestions:\n",
    "    print(suggestion)"
   ]
  },
  {
   "cell_type": "code",
   "execution_count": 5,
   "metadata": {},
   "outputs": [
    {
     "name": "stdout",
     "output_type": "stream",
     "text": [
      "i wish i were a bird hope i can fly, 6, 0\n"
     ]
    }
   ],
   "source": [
    "bigram_path = pkg_resources.resource_filename(\n",
    "    \"symspellpy\", \"frequency_bigramdictionary_en_243_342.txt\")\n",
    "sym_spell.load_bigram_dictionary(bigram_path, term_index=0, count_index=2)\n",
    "\n",
    "# lookup suggestions for multi-word input strings (supports compound\n",
    "# splitting & merging)\n",
    "\n",
    "input_term = (\"I wishI were a bird\"\n",
    "              \"I hopee I can fly\")\n",
    "\n",
    "# max edit distance per lookup (per single word, not per whole input string)\n",
    "\n",
    "suggestions = sym_spell.lookup_compound(input_term, max_edit_distance=2)\n",
    "\n",
    "# display suggestion term, edit distance, and term frequency\n",
    "\n",
    "for suggestion in suggestions:\n",
    "    print(suggestion)"
   ]
  },
  {
   "cell_type": "code",
   "execution_count": 6,
   "metadata": {},
   "outputs": [
    {
     "name": "stdout",
     "output_type": "stream",
     "text": [
      "I love to read books I will read it tomorrow, 3, -31.27944070643956\n"
     ]
    }
   ],
   "source": [
    "# a sentence without any spaces\n",
    "\n",
    "input_term = \"I love to readbooks. I will readit tomorrow\"\n",
    "result = sym_spell.word_segmentation(input_term)\n",
    "\n",
    "print(\"{}, {}, {}\".format(result.corrected_string, result.distance_sum,\n",
    "                          result.log_prob_sum))"
   ]
  },
  {
   "cell_type": "code",
   "execution_count": null,
   "metadata": {},
   "outputs": [],
   "source": []
  }
 ],
 "metadata": {
  "kernelspec": {
   "display_name": "Python 3",
   "language": "python",
   "name": "python3"
  },
  "language_info": {
   "codemirror_mode": {
    "name": "ipython",
    "version": 3
   },
   "file_extension": ".py",
   "mimetype": "text/x-python",
   "name": "python",
   "nbconvert_exporter": "python",
   "pygments_lexer": "ipython3",
   "version": "3.8.5"
  }
 },
 "nbformat": 4,
 "nbformat_minor": 4
}
